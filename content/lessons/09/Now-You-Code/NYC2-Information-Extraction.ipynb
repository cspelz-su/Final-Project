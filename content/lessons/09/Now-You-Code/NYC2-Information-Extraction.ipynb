{
 "cells": [
  {
   "cell_type": "markdown",
   "metadata": {},
   "source": [
    "# Now You Code 2: Information Extraction\n",
    "\n",
    "How do we make computers seem intelligent? One approach is to use *term extraction*. Term extration is a type of information extration where we attempt to find relevant terms in text. The relevant terms come from a *corpus*, or set of plausible terms we want to extract.\n",
    "\n",
    "For example, suppose we have the text:\n",
    "\n",
    "`One day I would like to visit Syracuse`\n",
    "\n",
    "We has smart humans can be fairly confident that `Syracuse` is a place, more specifically a `city`. \n",
    "\n",
    "A rudimentary method to make the computer interpret `Syracuse` as a place is to provide a corpus of cities and have the computer look up `Syracuse` in that corpus. \n",
    "\n",
    "In this code exercise we will do just that. Let's first write a function to read cities from the file `NYC2-cities.txt` into a corpus of cities, which will be represented in Python as a list.\n",
    "\n",
    "Then write a main program loop to input some text, split the text into a list of words and if any of the words match a city in the corpus list we will output the word is a city.\n",
    "\n",
    "The program should handle upper / lower case matching. A good approach is to title case the input. \n",
    "\n",
    "IMPORTANT: Please note that our program will ONLY work for one word cities, like `Syracuse` and will not work for multiple-word cities like `San Diego`. Don't worry about that now. \n",
    "\n",
    "SAMPLE RUN\n",
    "\n",
    "```\n",
    "Enter some text (or ENTER to quit): one day I would like to visit syraucse and rochester\n",
    "Syracuse is a city\n",
    "Rochester is a city\n",
    "Enter some text (or ENTER to quit): austin is in texas\n",
    "Austin is a city\n",
    "Enter some text (or ENTER to quit): \n",
    "Quitting...\n",
    "```\n",
    "\n",
    "Once again we will solve this problem using the problem simplification approach. First we will write the `load_city_corpus` function to build our city list. Second we will write the  `is_a_city` function which given a word and a city list will return `True` when the word is a city. Finally we conclude with the main program which finds cities in our text, as demonstrated in our sample run."
   ]
  },
  {
   "cell_type": "markdown",
   "metadata": {
    "collapsed": true
   },
   "source": [
    "## Step 1: Problem Analysis for `load_city_corpus`\n",
    "\n",
    "Inputs: None (reads from a file)\n",
    "\n",
    "Outputs: a Python list of cities\n",
    "\n",
    "Algorithm (Steps in Program): The program will open the file in read mode and then separate the cities by the comma, (-1) then return the cities\n",
    "\n"
   ]
  },
  {
   "cell_type": "code",
   "execution_count": 8,
   "metadata": {},
   "outputs": [
    {
     "name": "stdout",
     "output_type": "stream",
     "text": [
      "Enter a filenameNYC2-cities.txt\n",
      "['New York', 'Los Angeles', 'Chicago', 'Houston', 'Philadelphia', 'Phoenix', 'San Antonio', 'San Diego', 'Dallas', 'San Jose', 'Austin', 'Jacksonville', 'San Francisco', 'Indianapolis', 'Columbus', 'Fort Worth', 'Charlotte', 'Seattle', 'El Paso', 'Detroit', 'Denver', 'Washington', 'Memphis', 'Boston', 'Nashville', 'Baltimore', 'Oklahoma City', 'Portland', 'Las Vegas', 'Louisville', 'Milwaukee', 'Albuquerque', 'Tucson', 'Fresno', 'Sacramento', 'Long Beach', 'Kansas City', 'Mesa', 'Atlanta', 'Virginia Beach', 'Omaha', 'Colorado Springs', 'Raleigh', 'Miami', 'Oakland', 'Minneapolis', 'Tulsa', 'Cleveland', 'Wichita', 'New Orleans', 'Arlington', 'Bakersfield', 'Tampa', 'Aurora', 'Honolulu', 'Anaheim', 'Santa Ana', 'Corpus Christi', 'Riverside', 'St. Louis', 'Lexington', 'Pittsburgh', 'Stockton', 'Anchorage', 'Cincinnati', 'Saint Paul', 'Greensboro', 'Toledo', 'Newark', 'Plano', 'Henderson', 'Lincoln', 'Orlando', 'Jersey City', 'Chula Vista', 'Buffalo', 'Fort Wayne', 'Chandler', 'St. Petersburg', 'Laredo', 'Durham', 'Irvine', 'Madison', 'Norfolk', 'Lubbock', 'Gilbert', 'Winstonâ€“Salem', 'Glendale', 'Reno', 'Hialeah', 'Garland', 'Chesapeake', 'Irving', 'North Las Vegas', 'Scottsdale', 'Baton Rouge', 'Fremont', 'Richmond', 'Boise', 'San Bernardino', 'Birmingham', 'Spokane', 'Rochester', 'Modesto', 'Des Moines', 'Oxnard', 'Tacoma', 'Fontana', 'Fayetteville', 'Moreno Valley', 'Columbus', 'Huntington Beach', 'Yonkers', 'Montgomery', 'Aurora', 'Glendale', 'Shreveport', 'Akron', 'Little Rock', 'Amarillo', 'Augusta', 'Mobile', 'Grand Rapids', 'Salt Lake City', 'Huntsville', 'Tallahassee', 'Grand Prairie', 'Overland Park', 'Knoxville', 'Brownsville', 'Worcester', 'Newport News', 'Santa Clarita', 'Providence', 'Fort Lauderdale', 'Garden Grove', 'Oceanside', 'Rancho Cucamonga', 'Santa Rosa', 'Port St. Lucie', 'Chattanooga', 'Tempe', 'Jackson', 'Cape Coral', 'Vancouver', 'Ontario', 'Sioux Falls', 'Peoria', 'Springfield', 'Pembroke Pines', 'Elk Grove', 'Salem', 'Corona', 'Lancaster', 'Eugene', 'Palmdale', 'McKinney', 'Salinas', 'Fort Collins', 'Cary', 'Hayward', 'Springfield', 'Pasadena', 'Macon', 'Pomona', 'Alexandria', 'Escondido', 'Sunnyvale', 'Lakewood', 'Kansas City', 'Rockford', 'Torrance', 'Hollywood', 'Joliet', 'Bridgeport', 'Clarksville', 'Paterson', 'Naperville', 'Frisco', 'Mesquite', 'Savannah', 'Syracuse', 'Dayton', 'Pasadena', 'Orange', 'Fullerton', 'McAllen', 'Killeen', 'Hampton', 'Bellevue', 'Warren', 'Miramar', 'West Valley City', 'Olathe', 'Columbia', 'Sterling Heights', 'Thornton', 'New Haven', 'Waco', 'Charleston', 'Thousand Oaks', 'Visalia', 'Cedar Rapids', 'Elizabeth', 'Roseville', 'Gainesville', 'Carrollton', 'Stamford', 'Denton', 'Midland', 'Coral Springs', 'Concord', 'Topeka', 'Simi Valley', 'Surprise', 'Lafayette', 'Kent', 'Hartford', 'Santa Clara', 'Victorville', 'Abilene', 'Murfreesboro', 'Evansville', 'Vallejo', 'Athens', 'Allentown', 'Berkeley', 'Norman', 'Ann Arbor', 'Beaumont', 'Independence', 'Columbia', 'Springfield', 'El Monte', 'Fargo', 'Peoria', 'Provo', 'Lansing', 'Odessa', 'Downey', 'Wilmington', 'Arvada', 'Costa Mesa', 'Round Rock', 'Carlsbad', 'Miami Gardens', 'Westminster', 'Inglewood', 'Rochester', 'Fairfield', 'Elgin', 'West Jordan', 'Clearwater', 'Manchester', 'Lowell', 'Gresham', 'Cambridge', 'Ventura', 'Temecula', 'Waterbury', 'Antioch', 'Billings', 'High Point', 'Richardson', 'Richmond', 'West Covina', 'Pueblo', 'Murrieta', 'Centennial', 'Norwalk', 'North Charleston', 'Everett', 'Pompano Beach', 'Daly City', 'Palm Bay', 'Burbank', 'Wichita Falls', 'Boulder', 'Green Bay', 'Broken Arrow', 'West Palm Beach', 'College Station', 'Pearland', 'Santa Maria', 'El Cajon', 'San Mateo', 'Lewisville', 'Rialto', 'Davenport', 'Lakeland', 'Clovis', 'Edison', 'Sandy Springs', 'Tyler', 'Las Cruces', 'South Bend', 'Woodbridge', 'Erie']\n"
     ]
    }
   ],
   "source": [
    "## Step 2: write the defintion for the load_city_corpus function\n",
    "def load_city_corpus(filename):\n",
    "    with open(filename, 'r') as f:\n",
    "        cities = [city[:-1] for city in list(f.readlines())]\n",
    "    return cities\n",
    "file = input(\"Enter a filename\")\n",
    "cities = load_city_corpus(file)\n",
    "print(cities) "
   ]
  },
  {
   "cell_type": "markdown",
   "metadata": {},
   "source": [
    "## Step 3: Problem Analysis for `is_a_city`\n",
    "\n",
    "Inputs: a string word and a Python list of cities\n",
    "\n",
    "Outputs: True or False when word is in the list of cities.\n",
    "\n",
    "Algorithm (Steps in Program): function_is_a_city:\n",
    "if statement for city is in cities: set variable_city_status to True\n",
    "elif statement for city not in cities: set variable city_status to False\n",
    "return the value of city_status (true or false)\n",
    "\n"
   ]
  },
  {
   "cell_type": "code",
   "execution_count": 3,
   "metadata": {},
   "outputs": [],
   "source": [
    "## Step 4: write the definition for the is_a_city function\n",
    "def load_city_corpus(filename):\n",
    "    with open(filename, 'r') as f:\n",
    "        cities = [city[:-1] for city in list(f.readlines())]\n",
    "    return cities\n",
    "def is_a_city(city):\n",
    "    if city in cities:\n",
    "        city_status = True\n",
    "    elif city not in cities:\n",
    "        city_status = False\n",
    "    return_city_status"
   ]
  },
  {
   "cell_type": "markdown",
   "metadata": {},
   "source": [
    "## Step 5: Problem Analysis for entire program\n",
    "\n",
    "Inputs: a string word and a Python list of cities\n",
    "\n",
    "Outputs: True or False when word is in the list of cities.\n",
    "\n",
    "Algorithm (Steps in Program): function_is_a_city:\n",
    "if statement for city is in cities: set variable_city_status to True\n",
    "elif statement for city not in cities: set variable city_status to False\n",
    "return the value of city_status (true or false)\n",
    "\n",
    "\n"
   ]
  },
  {
   "cell_type": "code",
   "execution_count": 5,
   "metadata": {},
   "outputs": [
    {
     "name": "stdout",
     "output_type": "stream",
     "text": [
      "Enter some text about a city you would like to visit or type quet: syracuse\n",
      "Enter a filenameNYC2-cities.txt\n",
      "['New York', 'Los Angeles', 'Chicago', 'Houston', 'Philadelphia', 'Phoenix', 'San Antonio', 'San Diego', 'Dallas', 'San Jose', 'Austin', 'Jacksonville', 'San Francisco', 'Indianapolis', 'Columbus', 'Fort Worth', 'Charlotte', 'Seattle', 'El Paso', 'Detroit', 'Denver', 'Washington', 'Memphis', 'Boston', 'Nashville', 'Baltimore', 'Oklahoma City', 'Portland', 'Las Vegas', 'Louisville', 'Milwaukee', 'Albuquerque', 'Tucson', 'Fresno', 'Sacramento', 'Long Beach', 'Kansas City', 'Mesa', 'Atlanta', 'Virginia Beach', 'Omaha', 'Colorado Springs', 'Raleigh', 'Miami', 'Oakland', 'Minneapolis', 'Tulsa', 'Cleveland', 'Wichita', 'New Orleans', 'Arlington', 'Bakersfield', 'Tampa', 'Aurora', 'Honolulu', 'Anaheim', 'Santa Ana', 'Corpus Christi', 'Riverside', 'St. Louis', 'Lexington', 'Pittsburgh', 'Stockton', 'Anchorage', 'Cincinnati', 'Saint Paul', 'Greensboro', 'Toledo', 'Newark', 'Plano', 'Henderson', 'Lincoln', 'Orlando', 'Jersey City', 'Chula Vista', 'Buffalo', 'Fort Wayne', 'Chandler', 'St. Petersburg', 'Laredo', 'Durham', 'Irvine', 'Madison', 'Norfolk', 'Lubbock', 'Gilbert', 'Winstonâ€“Salem', 'Glendale', 'Reno', 'Hialeah', 'Garland', 'Chesapeake', 'Irving', 'North Las Vegas', 'Scottsdale', 'Baton Rouge', 'Fremont', 'Richmond', 'Boise', 'San Bernardino', 'Birmingham', 'Spokane', 'Rochester', 'Modesto', 'Des Moines', 'Oxnard', 'Tacoma', 'Fontana', 'Fayetteville', 'Moreno Valley', 'Columbus', 'Huntington Beach', 'Yonkers', 'Montgomery', 'Aurora', 'Glendale', 'Shreveport', 'Akron', 'Little Rock', 'Amarillo', 'Augusta', 'Mobile', 'Grand Rapids', 'Salt Lake City', 'Huntsville', 'Tallahassee', 'Grand Prairie', 'Overland Park', 'Knoxville', 'Brownsville', 'Worcester', 'Newport News', 'Santa Clarita', 'Providence', 'Fort Lauderdale', 'Garden Grove', 'Oceanside', 'Rancho Cucamonga', 'Santa Rosa', 'Port St. Lucie', 'Chattanooga', 'Tempe', 'Jackson', 'Cape Coral', 'Vancouver', 'Ontario', 'Sioux Falls', 'Peoria', 'Springfield', 'Pembroke Pines', 'Elk Grove', 'Salem', 'Corona', 'Lancaster', 'Eugene', 'Palmdale', 'McKinney', 'Salinas', 'Fort Collins', 'Cary', 'Hayward', 'Springfield', 'Pasadena', 'Macon', 'Pomona', 'Alexandria', 'Escondido', 'Sunnyvale', 'Lakewood', 'Kansas City', 'Rockford', 'Torrance', 'Hollywood', 'Joliet', 'Bridgeport', 'Clarksville', 'Paterson', 'Naperville', 'Frisco', 'Mesquite', 'Savannah', 'Syracuse', 'Dayton', 'Pasadena', 'Orange', 'Fullerton', 'McAllen', 'Killeen', 'Hampton', 'Bellevue', 'Warren', 'Miramar', 'West Valley City', 'Olathe', 'Columbia', 'Sterling Heights', 'Thornton', 'New Haven', 'Waco', 'Charleston', 'Thousand Oaks', 'Visalia', 'Cedar Rapids', 'Elizabeth', 'Roseville', 'Gainesville', 'Carrollton', 'Stamford', 'Denton', 'Midland', 'Coral Springs', 'Concord', 'Topeka', 'Simi Valley', 'Surprise', 'Lafayette', 'Kent', 'Hartford', 'Santa Clara', 'Victorville', 'Abilene', 'Murfreesboro', 'Evansville', 'Vallejo', 'Athens', 'Allentown', 'Berkeley', 'Norman', 'Ann Arbor', 'Beaumont', 'Independence', 'Columbia', 'Springfield', 'El Monte', 'Fargo', 'Peoria', 'Provo', 'Lansing', 'Odessa', 'Downey', 'Wilmington', 'Arvada', 'Costa Mesa', 'Round Rock', 'Carlsbad', 'Miami Gardens', 'Westminster', 'Inglewood', 'Rochester', 'Fairfield', 'Elgin', 'West Jordan', 'Clearwater', 'Manchester', 'Lowell', 'Gresham', 'Cambridge', 'Ventura', 'Temecula', 'Waterbury', 'Antioch', 'Billings', 'High Point', 'Richardson', 'Richmond', 'West Covina', 'Pueblo', 'Murrieta', 'Centennial', 'Norwalk', 'North Charleston', 'Everett', 'Pompano Beach', 'Daly City', 'Palm Bay', 'Burbank', 'Wichita Falls', 'Boulder', 'Green Bay', 'Broken Arrow', 'West Palm Beach', 'College Station', 'Pearland', 'Santa Maria', 'El Cajon', 'San Mateo', 'Lewisville', 'Rialto', 'Davenport', 'Lakeland', 'Clovis', 'Edison', 'Sandy Springs', 'Tyler', 'Las Cruces', 'South Bend', 'Woodbridge', 'Erie']\n"
     ]
    }
   ],
   "source": [
    "## Step 6: Write complete program, making sure to use your two functions.\n",
    "city = input(\"Enter some text about a city you would like to visit or type quet: \")\n",
    "\n",
    "def load_city_corpus(filename):\n",
    "    with open(filename, 'r') as f:\n",
    "        cities = [city[:-1] for city in list(f.readlines())]\n",
    "    return cities\n",
    "file = input(\"Enter a filename\")\n",
    "cities = load_city_corpus(file)\n",
    "print(cities)\n",
    "def load_city_corpus(filename):\n",
    "    with open(filename, 'r') as f:\n",
    "        cities = [city[:-1] for city in list(f.readlines())]\n",
    "    return cities\n",
    "def is_a_city(city):\n",
    "    if city in cities:\n",
    "        city_status = True\n",
    "    elif city not in cities:\n",
    "        city_status = False\n",
    "    return_city_status  \n",
    "\n",
    "def load_city_corpus(filename):\n",
    "    with open(filename, 'r') as f:\n",
    "        cities = [city[:-1] for city in list(f.readlines())]\n",
    "    return cities\n",
    "def is_a_city(city):\n",
    "    if city in cities:\n",
    "        city_status = True\n",
    "    elif city not in cities:\n",
    "        city_status = False\n",
    "    return_city_status"
   ]
  },
  {
   "cell_type": "markdown",
   "metadata": {
    "collapsed": true
   },
   "source": [
    "## Step 7: Questions\n",
    "\n",
    "1. Explain your approach to solving this problem for cities with 2 words like `New York` or `Los Angeles`? \n",
    "You could put a _ between the cities.\n",
    "2. How would you solve the problem where you enter a city name which is not in the corpus? \n",
    "You could use try and except for this part. If the city name is not in the corpus, the program could output that you entered a city not in the corpus.\n"
   ]
  },
  {
   "cell_type": "markdown",
   "metadata": {
    "collapsed": true
   },
   "source": [
    "## Reminder of Evaluation Criteria\n",
    "\n",
    "1. What the problem attempted (analysis, code, and answered questions) ?\n",
    "2. What the problem analysis thought out? (does the program match the plan?)\n",
    "3. Does the code execute without syntax error?\n",
    "4. Does the code solve the intended problem?\n",
    "5. Is the code well written? (easy to understand, modular, and self-documenting, handles errors)\n"
   ]
  },
  {
   "cell_type": "code",
   "execution_count": null,
   "metadata": {
    "collapsed": true
   },
   "outputs": [],
   "source": []
  }
 ],
 "metadata": {
  "anaconda-cloud": {},
  "kernelspec": {
   "display_name": "Python 3",
   "language": "python",
   "name": "python3"
  },
  "language_info": {
   "codemirror_mode": {
    "name": "ipython",
    "version": 3
   },
   "file_extension": ".py",
   "mimetype": "text/x-python",
   "name": "python",
   "nbconvert_exporter": "python",
   "pygments_lexer": "ipython3",
   "version": "3.6.1"
  }
 },
 "nbformat": 4,
 "nbformat_minor": 1
}
