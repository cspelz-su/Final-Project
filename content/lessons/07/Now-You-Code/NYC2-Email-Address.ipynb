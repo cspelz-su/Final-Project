{
 "cells": [
  {
   "cell_type": "markdown",
   "metadata": {},
   "source": [
    "# Now You Code 2: Is That An Email Address?\n",
    "\n",
    "Let's use Python's built-in string functions to write our own function to detect if a string is an email address. \n",
    "\n",
    "The function `isEmail(text)` should return `True` when `text` is an email address, `False` otherwise.  \n",
    "\n",
    "For simplicity's sake we will define an email address to be any string with just ONE `@` symbol in it, where the `@` is not at the beginning or end of the string. So `a@b` is considered an email (even though it really isn't).\n",
    "\n",
    "The program should detect emails until you enter quit. \n",
    "\n",
    "Sample run:\n",
    "```\n",
    "Email address detector. Type quit to exit. \n",
    "Email: mafudge@syr.edu\n",
    "mafudge@syr.edu ==> email\n",
    "Email: mafudge@\n",
    "mafudge@ ==> NOT EMAIL\n",
    "Email: mafudge\n",
    "mafudge ==> NOT EMAIL\n",
    "Email: @syr.edu\n",
    "@syr.edu ==> NOT EMAIL\n",
    "Email: @\n",
    "@ ==> NOT EMAIL\n",
    "Email: mafudge@@syr.edu\n",
    "mafudge@@syr.edu ==> NOT EMAIL\n",
    "Email: mafudge@syr@edu\n",
    "mafudge@syr@edu ==> NOT EMAIL\n",
    "```\n",
    "\n",
    "Once again we will use the problem simplification technique to writing this program.\n",
    "\n",
    "First we will write the `isEmail(text)` function, then we will write the main program.\n"
   ]
  },
  {
   "cell_type": "markdown",
   "metadata": {},
   "source": [
    "## Step 1: Problem Analysis for isEmail function only\n",
    "\n",
    "Inputs: enter email address\n",
    "\n",
    "Outputs: True or false\n",
    "\n",
    "Algorithm (Steps in Program): determine if email address entered is truly an email address or not\n",
    "\n"
   ]
  },
  {
   "cell_type": "code",
   "execution_count": 4,
   "metadata": {
    "collapsed": true
   },
   "outputs": [],
   "source": [
    "## Step 2: Todo write the function definition for isEmail functiuon\n",
    "def isEmail(text):\n",
    "    if email.startswith (\"@\"):\n",
    "        return False\n",
    "    if email.endswith(\"@\"):\n",
    "        return False\n",
    "    if (\"@\" in email):\n",
    "        if(email.count(\"@\") == 1):\n",
    "            return True\n",
    "        else:\n",
    "                return False\n",
    "    else:\n",
    "        return False"
   ]
  },
  {
   "cell_type": "code",
   "execution_count": 6,
   "metadata": {},
   "outputs": [
    {
     "name": "stdout",
     "output_type": "stream",
     "text": [
      "Input: mike@syr.edu Should be True, Actual Value: False\n",
      "Input: mike@ Should be False, Actual Value: False\n",
      "Input: mike Should be False, Actual Value: False\n"
     ]
    }
   ],
   "source": [
    "## Step 3: Write some tests, to ensure the function works, for example\n",
    "## Make sure to test all cases!\n",
    "print(\"Input:\", \"mike@syr.edu\", \"Should be True, Actual Value:\", isEmail(\"mike@syr.edu\") )\n",
    "print(\"Input:\", \"mike@\", \"Should be False, Actual Value:\", isEmail(\"mike@\") )\n",
    "print(\"Input:\", \"mike\", \"Should be False, Actual Value:\", isEmail(\"mike\") )\n",
    "\n"
   ]
  },
  {
   "cell_type": "markdown",
   "metadata": {},
   "source": [
    "## Step 4: Problem Analysis for full Program\n",
    "\n",
    "Inputs: ask email\n",
    "\n",
    "Outputs: email is valid, email is not valid, or quit\n",
    "\n",
    "Algorithm (Steps in Program):\n",
    "\n",
    "ask email, if email is true say valid, if email is false say not valid and quit, and then quit\n",
    "\n"
   ]
  },
  {
   "cell_type": "code",
   "execution_count": 5,
   "metadata": {},
   "outputs": [
    {
     "name": "stdout",
     "output_type": "stream",
     "text": [
      "Email address detector. Type quit to exit.\n",
      "Email: sldfsdf@aol.com\n",
      "sldfsdf@aol.com => Valid\n",
      "Email: lsfjalsf\n",
      "lsfjalsf => Invalid\n",
      "Email: quit\n",
      "You quit the program.\n"
     ]
    }
   ],
   "source": [
    "## Step 5: todo write code for full problem, using the isEmail function to help you solve the problem\n",
    "print(\"Email address detector. Type quit to exit.\")\n",
    "while True:\n",
    "    email= input(\"Email: \")\n",
    "    if email == 'quit':\n",
    "        print(\"You quit the program.\")\n",
    "        break\n",
    "    elif isEmail(email)==True:\n",
    "        print(email, \"=> Valid\")\n",
    "    else:\n",
    "        print(email, \"=> Invalid\")"
   ]
  },
  {
   "cell_type": "markdown",
   "metadata": {},
   "source": [
    "## Step 6: Questions\n",
    "\n",
    "1. How many test cases should you have in step 3 to ensure you've tested all the cases?\n",
    "You should have three tests. \n",
    "2. What should kind of logic should we add to make our `isEmail` function even better, so that is detects emails more accurately?\n",
    "We can include a try and except section to help detect emails more accurately. "
   ]
  },
  {
   "cell_type": "markdown",
   "metadata": {},
   "source": [
    "## Reminder of Evaluation Criteria\n",
    "\n",
    "1. What the problem attempted (analysis, code, and answered questions) ?\n",
    "2. What the problem analysis thought out? (does the program match the plan?)\n",
    "3. Does the code execute without syntax error?\n",
    "4. Does the code solve the intended problem?\n",
    "5. Is the code well written? (easy to understand, modular, and self-documenting, handles errors)\n"
   ]
  },
  {
   "cell_type": "code",
   "execution_count": null,
   "metadata": {
    "collapsed": true
   },
   "outputs": [],
   "source": []
  }
 ],
 "metadata": {
  "anaconda-cloud": {},
  "kernelspec": {
   "display_name": "Python 3",
   "language": "python",
   "name": "python3"
  },
  "language_info": {
   "codemirror_mode": {
    "name": "ipython",
    "version": 3
   },
   "file_extension": ".py",
   "mimetype": "text/x-python",
   "name": "python",
   "nbconvert_exporter": "python",
   "pygments_lexer": "ipython3",
   "version": "3.6.1"
  }
 },
 "nbformat": 4,
 "nbformat_minor": 1
}
