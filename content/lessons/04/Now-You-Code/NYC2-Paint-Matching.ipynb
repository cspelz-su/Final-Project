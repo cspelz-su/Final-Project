{
 "cells": [
  {
   "cell_type": "markdown",
   "metadata": {},
   "source": [
    "# Now You Code 2: Paint Pricing\n",
    "\n",
    "House Depot, a big-box hardware retailer, has contracted you to create an app to calculate paint prices. \n",
    "\n",
    "The price of paint is determined by the following factors:\n",
    "- Everyday quality paint is `$19.99` per gallon.\n",
    "- Select quality paint is `$24.99` per gallon.\n",
    "- Premium quality paint is `$32.99` per gallon.\n",
    "\n",
    "In addition if the customer wants computerized color-matching that incurs an additional fee of `$4.99` per gallon. \n",
    "\n",
    "Write a program to ask the user to select a paint quality: 'everyday', 'select' or 'premium' and then whether they need color matching and then outputs the price per gallon of the paint.\n",
    "\n",
    "Example Run 1:\n",
    "\n",
    "```\n",
    "Which paint quality do you require ['everyday', 'select', 'premium'] ?select\n",
    "Do you require color matching [y/n] ?y\n",
    "Total price of select paint with color matching is $29.98\n",
    "```\n",
    "\n",
    "Example Run 2:\n",
    "\n",
    "```\n",
    "Which paint quality do you require ['everyday', 'select', 'premium'] ?premium\n",
    "Do you require color matching [y/n] ?n\n",
    "Total price of premium paint without color matching is $32.99\n",
    "```"
   ]
  },
  {
   "cell_type": "markdown",
   "metadata": {
    "collapsed": true
   },
   "source": [
    "## Step 1: Problem Analysis\n",
    "\n",
    "Inputs: Paint quality: either everyday select or premimum, whether they need color matching\n",
    "\n",
    "Outputs:Price per gallon of the paint\n",
    "\n",
    "Algorithm (Steps in Program): Enter what quality of paint you need, enter if you need color matching or not, the program figures out the total price of your quality paint with the paint matching or without the price matching, depending on what choice you picked\n",
    "\n",
    "\n"
   ]
  },
  {
   "cell_type": "code",
   "execution_count": 22,
   "metadata": {},
   "outputs": [
    {
     "ename": "IndentationError",
     "evalue": "expected an indented block (<ipython-input-22-e67117f5184e>, line 28)",
     "output_type": "error",
     "traceback": [
      "\u001b[1;36m  File \u001b[1;32m\"<ipython-input-22-e67117f5184e>\"\u001b[1;36m, line \u001b[1;32m28\u001b[0m\n\u001b[1;33m    price = everyday_paint + color_matching\u001b[0m\n\u001b[1;37m        ^\u001b[0m\n\u001b[1;31mIndentationError\u001b[0m\u001b[1;31m:\u001b[0m expected an indented block\n"
     ]
    }
   ],
   "source": [
    "# Step 2: Write code here\n",
    "everyday = 19.99    \n",
    "select = 24.99\n",
    "premium = 32.99\n",
    "additional = 4.99\n",
    "\n",
    "\n",
    "choices = ['Everyday','Select','Premimum']\n",
    "yesno = ['Yes', 'No'] \n",
    "\n",
    "paint = input(\"Which paint quality do you require: Everyday, Select, or 'Premium: \") \n",
    "paint = paint.capitalize()\n",
    "if (paint in choices):\n",
    "    print(\"Your quality is %s\" % (paint))\n",
    "    \n",
    "else:\n",
    "    print(\"This is not a choice. Please respond with a listed paint quality\")\n",
    "yeno = input(\"Do you need color matching? (Yes or No) \")\n",
    "yeno = yeno.capatalize()\n",
    "if (yeno in yesno):\n",
    "    print(\"Your selection for color matching: %s\" % (yeno))\n",
    "else: \n",
    "        print(\"Enter Yes or No\")\n",
    "if(paint in choices and yeno in yesno):\n",
    "    print(\"You chose %s Pant and %s to Color Matching.\" % (paint,yeno))\n",
    "    \n",
    "    if (paint == 'Everyday' and yeno == 'yes'):\n",
    "    price = everyday_paint + color_matching\n",
    "    print(\"The total price of Everyday paint with color matching is $%.2f per gallon.\") % (price))\n",
    "    elif (paint == 'Select' and yeno == 'yes'):\n",
    "        price = select_paint + color_matching\n",
    "        print(\"The total price of select paint with color matching is $%.2f per gallon.\") % (price))\n",
    "    elif (paint == 'Premium' and yeno == 'yes'):\n",
    "        price = premium_paint + color_matching\n",
    "        print(\"The total price of Premium paint with color matching is $%.2f per gallon.\") % (price))\n",
    "    elif (paint == 'everyday' and yeno == 'no'):\n",
    "        price = everyday_paint\n",
    "        print('The total price of everyday paint without color matching is $%.2f per gallon.') % (price))\n",
    "    elif (paint == 'select' and yeno == 'no'):\n",
    "        price = select_paint\n",
    "        print('The total price of select paint without color matching is $%.2f per gallon.') % (price))\n",
    "    elif (paint == 'premium' and yeno == 'no'):\n",
    "         price = premium_paint\n",
    "        print('The total price of premium paint without color matching is $%.2f per gallon.') % (price))\n",
    "            \n",
    "else:\n",
    "            print(\"ERROR: Paint and Requirement of Color Matching is needed.\")\n",
    "    \n",
    "    \n",
    "\n",
    "\n"
   ]
  },
  {
   "cell_type": "markdown",
   "metadata": {},
   "source": [
    "## Step 3: Questions\n",
    "\n",
    "1. When you enter something other than `'everyday', 'select',` or  `'premium'` what happens? Modify the program to print `that is not a paint quality` and then exit in those cases.\n",
    "When you enter something other than the specificed choices, the program will still run and doesn't crash, but it lets you know you need to enter one of the specified choices.\n",
    "2. What happens when you enter something other than `'y'` or `'n'` for color matching? Re-write the program to print `you must enter y or n` whenever you enter something other than those two values.\n",
    "It still ran when you didn't enter yes or no, but it wouldn't give you a value until yes or no was entered.\n",
    "3. Why can't we use Python's `try...except` in this example?\n",
    "We cannot use Python's try and except because that is used to handle exceptions (run-time errors) \n"
   ]
  },
  {
   "cell_type": "markdown",
   "metadata": {},
   "source": [
    "## Reminder of Evaluation Criteria\n",
    "\n",
    "1. What the problem attempted (analysis, code, and answered questions) ?\n",
    "2. What the problem analysis thought out? (does the program match the plan?)\n",
    "3. Does the code execute without syntax error?\n",
    "4. Does the code solve the intended problem?\n",
    "5. Is the code well written? (easy to understand, modular, and self-documenting, handles errors)\n"
   ]
  },
  {
   "cell_type": "code",
   "execution_count": null,
   "metadata": {
    "collapsed": true
   },
   "outputs": [],
   "source": []
  }
 ],
 "metadata": {
  "anaconda-cloud": {},
  "kernelspec": {
   "display_name": "Python 3",
   "language": "python",
   "name": "python3"
  },
  "language_info": {
   "codemirror_mode": {
    "name": "ipython",
    "version": 3
   },
   "file_extension": ".py",
   "mimetype": "text/x-python",
   "name": "python",
   "nbconvert_exporter": "python",
   "pygments_lexer": "ipython3",
   "version": "3.6.1"
  }
 },
 "nbformat": 4,
 "nbformat_minor": 1
}
