{
 "cells": [
  {
   "cell_type": "code",
   "execution_count": 6,
   "metadata": {},
   "outputs": [
    {
     "name": "stdout",
     "output_type": "stream",
     "text": [
      "What city do you want to travel to!:silver creek\n",
      "This city you entered has a 26  degrees Fahrenheit as of now! It seems like there is Snow over there!\n",
      "A new browser should have directed you to google for travel sugguestions via expedia.\n"
     ]
    }
   ],
   "source": [
    "import webbrowser\n",
    "import urllib\n",
    "import json\n",
    "import requests\n",
    "import urllib.request    \n",
    "\n",
    "\n",
    "\n",
    "\n",
    "\n",
    "try:\n",
    "    \n",
    "    url ='http://api.openweathermap.org/data/2.5/weather?appid=0c42f7f6b53b244c78a418f4f181282a&q='\n",
    "    info = input('What city do you want to travel to!:')\n",
    "    url_info = url + info\n",
    "    response = requests.get(url_info).json()\n",
    "    weather_info = int(response ['main']['temp']* 9/5 - 459.67)\n",
    "    \n",
    "    descrip_info = response ['weather'][0]['main']\n",
    "    \n",
    "    print('This city you entered has a',weather_info, ' degrees Fahrenheit as of now! It seems like there is',descrip_info,'over there!')\n",
    "    print ('A new browser should have directed you to google for travel sugguestions via expedia.')    \n",
    "        \n",
    "       \n",
    "    new = 2 \n",
    "\n",
    "    tabUrl= \"http://google.com/?#q=\"\n",
    "    search = info +''+'expedia'\n",
    "    webbrowser.open(tabUrl +search, new = new)\n",
    "    \n",
    "       \n",
    "        \n",
    "except KeyError:\n",
    "        print(\"This is not a valid city.\")\n",
    "    \n",
    "except requests.exceptions.RequestException as e:\n",
    "        print('Error: cannot connect to', url)\n",
    "        print('DETAILS: ',e)\n",
    "    "
   ]
  },
  {
   "cell_type": "code",
   "execution_count": null,
   "metadata": {
    "collapsed": true
   },
   "outputs": [],
   "source": []
  }
 ],
 "metadata": {
  "kernelspec": {
   "display_name": "Python 3",
   "language": "python",
   "name": "python3"
  },
  "language_info": {
   "codemirror_mode": {
    "name": "ipython",
    "version": 3
   },
   "file_extension": ".py",
   "mimetype": "text/x-python",
   "name": "python",
   "nbconvert_exporter": "python",
   "pygments_lexer": "ipython3",
   "version": "3.6.1"
  }
 },
 "nbformat": 4,
 "nbformat_minor": 2
}
