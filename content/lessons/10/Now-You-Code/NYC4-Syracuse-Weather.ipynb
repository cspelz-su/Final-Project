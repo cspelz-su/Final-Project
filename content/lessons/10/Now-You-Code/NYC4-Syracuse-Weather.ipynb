{
 "cells": [
  {
   "cell_type": "markdown",
   "metadata": {},
   "source": [
    "# Now You Code 4: Syracuse Weather\n",
    "\n",
    "Write a program to load the Syracuse weather data from Dec 2015 in\n",
    "JSON format into a Python list of dictionary. \n",
    "\n",
    "The file with the weather data is in your `Now-You-Code` folder: `\"NYC4-syr-weather-dec-2015.json\"`\n",
    "\n",
    "You should load this data into a Python list of dictionary using the `json` package. \n",
    "\n",
    "After you load this data calculate the number of days where the Average Daily Temperature ('Mean TemperatureF') is ABOVE freezing:\n",
    "\n",
    "Store the days above freezing and below freezing into a Python dictionary\n",
    "and then print out the dictionary like this:\n",
    "```\n",
    "{'below-freezing': 4, 'above-freezing': 27}\n",
    "```\n",
    "\n",
    "Make sure to plan out your steps with a to-do list BEFORE you write code. "
   ]
  },
  {
   "cell_type": "code",
   "execution_count": 9,
   "metadata": {},
   "outputs": [],
   "source": [
    "# TODO: Write steps here\n",
    "import json\n",
    "def load_syr_data():\n",
    "    with open('NYC4-syr-weather-dec-2015.json', encoding='utf8') as f:\n",
    "        data = f.read()\n",
    "        weather = json.loads(data)\n",
    "        return weather"
   ]
  },
  {
   "cell_type": "code",
   "execution_count": 10,
   "metadata": {},
   "outputs": [
    {
     "name": "stdout",
     "output_type": "stream",
     "text": [
      "There are 27 days above freezing and 26 days below freezing\n",
      "{'Above freezing': 27, 'Below freezing': 26}\n"
     ]
    }
   ],
   "source": [
    "# TODO Write code here\n",
    "weather = load_syr_data()\n",
    "below = 0\n",
    "above = 0\n",
    "for temp in weather:\n",
    "    if temp['Mean TemperatureF'] > 32:\n",
    "        above = above + 1\n",
    "        \n",
    "    else:\n",
    "        below = above + 1\n",
    "        \n",
    "syr_weather = {'Above freezing': above, 'Below freezing': below}\n",
    "print(\"There are\",above,\"days above freezing and\",below, \"days below freezing\")\n",
    "print(syr_weather)"
   ]
  },
  {
   "cell_type": "code",
   "execution_count": null,
   "metadata": {
    "collapsed": true
   },
   "outputs": [],
   "source": []
  }
 ],
 "metadata": {
  "anaconda-cloud": {},
  "kernelspec": {
   "display_name": "Python 3",
   "language": "python",
   "name": "python3"
  },
  "language_info": {
   "codemirror_mode": {
    "name": "ipython",
    "version": 3
   },
   "file_extension": ".py",
   "mimetype": "text/x-python",
   "name": "python",
   "nbconvert_exporter": "python",
   "pygments_lexer": "ipython3",
   "version": "3.6.1"
  }
 },
 "nbformat": 4,
 "nbformat_minor": 1
}
