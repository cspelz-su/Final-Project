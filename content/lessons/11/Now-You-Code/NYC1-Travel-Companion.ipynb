{
 "cells": [
  {
   "cell_type": "markdown",
   "metadata": {},
   "source": [
    "# Now You Code 1: Travel Companion\n",
    "\n",
    "You're heading to Europe! Write a program which when you input an amount of money in USD will convert that to GBP (British Pounts) and EUR (Euro Dollars).\n",
    "\n",
    "The program should use the API: http://fixer.io/  to calculate the exchange rates. You must read and review the API before beginning.\n",
    "\n",
    "Example Run (Based on the exchange rates from 2017-03-06:\n",
    "\n",
    "```\n",
    "Enter the amount in USD you wish to exchange: 100\n",
    "100.00 in USD is 94.41 in EUR\n",
    "100.00 in USD is 81.48 in GBP\n",
    "```\n",
    "\n",
    "\n",
    "We will once again employ problem simplification. First you should write a function to get the exchange rates from fixer.io, then call that function in your main program."
   ]
  },
  {
   "cell_type": "markdown",
   "metadata": {
    "collapsed": true
   },
   "source": [
    "## Step 1: Problem Analysis `get_exchange_rates`\n",
    "\n",
    "Inputs: None\n",
    "\n",
    "Outputs: a dictionary of current exchange rates\n",
    "\n",
    "Algorithm (Steps in Program):\n",
    "\n",
    "\n"
   ]
  },
  {
   "cell_type": "code",
   "execution_count": 1,
   "metadata": {
    "collapsed": true
   },
   "outputs": [],
   "source": [
    "# Step 2: write code here for the user-defined function get_exchange_rates\n",
    "import requests\n",
    "import json\n",
    "def get_exchange_rates():\n",
    "    url = 'https://api.fixer.io/latest?base=USD'\n",
    "    response = requests.get(url)\n",
    "    response.ok\n",
    "    f_ex = response.json()\n",
    "    return f_ex['rates']"
   ]
  },
  {
   "cell_type": "code",
   "execution_count": 2,
   "metadata": {},
   "outputs": [
    {
     "data": {
      "text/plain": [
       "{'AUD': 1.3253,\n",
       " 'BGN': 1.6582,\n",
       " 'BRL': 3.2775,\n",
       " 'CAD': 1.2762,\n",
       " 'CHF': 0.99161,\n",
       " 'CNY': 6.6332,\n",
       " 'CZK': 21.694,\n",
       " 'DKK': 6.3086,\n",
       " 'EUR': 0.84782,\n",
       " 'GBP': 0.75782,\n",
       " 'HKD': 7.8121,\n",
       " 'HRK': 6.4148,\n",
       " 'HUF': 264.16,\n",
       " 'IDR': 13528.0,\n",
       " 'ILS': 3.5153,\n",
       " 'INR': 65.012,\n",
       " 'JPY': 112.61,\n",
       " 'KRW': 1096.3,\n",
       " 'MXN': 19.042,\n",
       " 'MYR': 4.161,\n",
       " 'NOK': 8.2376,\n",
       " 'NZD': 1.4728,\n",
       " 'PHP': 50.828,\n",
       " 'PLN': 3.5898,\n",
       " 'RON': 3.9398,\n",
       " 'RUB': 59.386,\n",
       " 'SEK': 8.4309,\n",
       " 'SGD': 1.3563,\n",
       " 'THB': 32.83,\n",
       " 'TRY': 3.8869,\n",
       " 'ZAR': 14.013}"
      ]
     },
     "execution_count": 2,
     "metadata": {},
     "output_type": "execute_result"
    }
   ],
   "source": [
    "# step 3: test the function\n",
    "get_exchange_rates() # should output a dictionary"
   ]
  },
  {
   "cell_type": "markdown",
   "metadata": {},
   "source": [
    "## Step 4: Problem Analysis for entire program\n",
    "\n",
    "Inputs: user should be able to enter an amount in USD that they to convert\n",
    "\n",
    "Outputs: converted value of USD in both EUR and GBP\n",
    "\n",
    "Algorithm (Steps in Program):input a statement for value os USD, input statement for value of USD, have requets return the exchange rate for EUR and GBP, caculate exchange rates using user input value and EUR/GBP rates, print in EUR and GBP\n",
    "\n",
    "\n"
   ]
  },
  {
   "cell_type": "code",
   "execution_count": 3,
   "metadata": {},
   "outputs": [
    {
     "name": "stdout",
     "output_type": "stream",
     "text": [
      "Enter the amount in USD you wish to change 56\n"
     ]
    },
    {
     "ename": "NameError",
     "evalue": "name 'converted_USD_to_EUR' is not defined",
     "output_type": "error",
     "traceback": [
      "\u001b[1;31m---------------------------------------------------------------------------\u001b[0m",
      "\u001b[1;31mNameError\u001b[0m                                 Traceback (most recent call last)",
      "\u001b[1;32m<ipython-input-3-3973ae43d52f>\u001b[0m in \u001b[0;36m<module>\u001b[1;34m()\u001b[0m\n\u001b[0;32m     10\u001b[0m     \u001b[0mconverted_USD_EUR\u001b[0m \u001b[1;33m=\u001b[0m \u001b[0mUSD_amount\u001b[0m \u001b[1;33m*\u001b[0m \u001b[0mfloat\u001b[0m\u001b[1;33m(\u001b[0m\u001b[0mEUR_ex\u001b[0m\u001b[1;33m)\u001b[0m\u001b[1;33m\u001b[0m\u001b[0m\n\u001b[0;32m     11\u001b[0m     \u001b[0mconverted_USD_GBP\u001b[0m \u001b[1;33m=\u001b[0m \u001b[0mUSD_amount\u001b[0m \u001b[1;33m*\u001b[0m \u001b[0mfloat\u001b[0m\u001b[1;33m(\u001b[0m\u001b[0mGBP_ex\u001b[0m\u001b[1;33m)\u001b[0m\u001b[1;33m\u001b[0m\u001b[0m\n\u001b[1;32m---> 12\u001b[1;33m     \u001b[0mprint\u001b[0m\u001b[1;33m(\u001b[0m\u001b[0mUSD_amount\u001b[0m\u001b[1;33m,\u001b[0m \u001b[1;34m'in USD is %.2f in EUR'\u001b[0m \u001b[1;33m%\u001b[0m \u001b[0mconverted_USD_to_EUR\u001b[0m\u001b[1;33m)\u001b[0m\u001b[1;33m\u001b[0m\u001b[0m\n\u001b[0m\u001b[0;32m     13\u001b[0m     \u001b[0mprint\u001b[0m\u001b[1;33m(\u001b[0m\u001b[0mUSD_amount\u001b[0m\u001b[1;33m,\u001b[0m \u001b[1;34m'in USD is %.2f in GBP'\u001b[0m \u001b[1;33m%\u001b[0m \u001b[0mconverted_USD_to_GBP\u001b[0m\u001b[1;33m)\u001b[0m\u001b[1;33m\u001b[0m\u001b[0m\n\u001b[0;32m     14\u001b[0m \u001b[1;33m\u001b[0m\u001b[0m\n",
      "\u001b[1;31mNameError\u001b[0m: name 'converted_USD_to_EUR' is not defined"
     ]
    }
   ],
   "source": [
    "# step 5: write main program\n",
    "import requests\n",
    "import json\n",
    "try:\n",
    "    url = 'https://api.fixer.io/latest?base=USD'\n",
    "    USD_amount = float(input('Enter the amount in USD you wish to change '))\n",
    "    f_ex = get_exchange_rates()\n",
    "    EUR_ex = f_ex['EUR']\n",
    "    GBP_ex = f_ex['GBP']\n",
    "    converted_USD_EUR = USD_amount * float(EUR_ex)\n",
    "    converted_USD_GBP = USD_amount * float(GBP_ex)\n",
    "    print(USD_amount, 'in USD is %.2f in EUR' % converted_USD_to_EUR)\n",
    "    print(USD_amount, 'in USD is %.2f in GBP' % converted_USD_to_GBP)\n",
    "    \n",
    "except ValueError:\n",
    "    print('This is not a valid input, please enter a number in USD')\n",
    "    \n",
    "except requests.exceptions.RequestException as e:\n",
    "    print('ERROR: Cannot connect to', url)\n",
    "    print('DETAILS:', e)"
   ]
  },
  {
   "cell_type": "markdown",
   "metadata": {
    "collapsed": true
   },
   "source": [
    "## Step 6: Questions\n",
    "\n",
    "1. What happens when you enter `mike` as input? Which error to you get? Fix the program in step 4 so that it handles this error.\n",
    "You get a value error. I added try and except to make it so you have to enter an amount in USD.\n",
    "2. Put your laptop in Airplane mode (disable the wifi) and then run the program. What happens? Fix the program in step 4 so that it handles this error.\n",
    "You get an error, so I added an except statement where it will print error and it lets you know you cannot connect to the wifi. \n"
   ]
  },
  {
   "cell_type": "markdown",
   "metadata": {},
   "source": [
    "## Reminder of Evaluation Criteria\n",
    "\n",
    "1. What the problem attempted (analysis, code, and answered questions) ?\n",
    "2. What the problem analysis thought out? (does the program match the plan?)\n",
    "3. Does the code execute without syntax error?\n",
    "4. Does the code solve the intended problem?\n",
    "5. Is the code well written? (easy to understand, modular, and self-documenting, handles errors)\n"
   ]
  },
  {
   "cell_type": "code",
   "execution_count": null,
   "metadata": {
    "collapsed": true
   },
   "outputs": [],
   "source": []
  }
 ],
 "metadata": {
  "anaconda-cloud": {},
  "kernelspec": {
   "display_name": "Python 3",
   "language": "python",
   "name": "python3"
  },
  "language_info": {
   "codemirror_mode": {
    "name": "ipython",
    "version": 3
   },
   "file_extension": ".py",
   "mimetype": "text/x-python",
   "name": "python",
   "nbconvert_exporter": "python",
   "pygments_lexer": "ipython3",
   "version": "3.6.1"
  }
 },
 "nbformat": 4,
 "nbformat_minor": 1
}
