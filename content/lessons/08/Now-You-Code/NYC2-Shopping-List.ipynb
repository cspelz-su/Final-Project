{
 "cells": [
  {
   "cell_type": "markdown",
   "metadata": {},
   "source": [
    "# Now You Code 2: Shopping List\n",
    "\n",
    "Write a program to input a list of grocery items for your shopping list and then writes them to a file a line at a time.  The program should keep asking you to enter grocery items until you type `'done'`.\n",
    "\n",
    "After you complete the list, the program should then load the file and read the list back to you by printing each item out.\n",
    "\n",
    "Sample Run:\n",
    "\n",
    "```\n",
    "Let's make a shopping list. Type 'done' when you're finished:\n",
    "Enter Item: milk\n",
    "Enter Item: cheese\n",
    "Enter Item: eggs\n",
    "Enter Item: beer\n",
    "Enter Item: apples\n",
    "Enter Item: done\n",
    "Your shopping list:\n",
    "milk\n",
    "cheese\n",
    "eggs\n",
    "beer\n",
    "apples\n",
    "```\n"
   ]
  },
  {
   "cell_type": "markdown",
   "metadata": {
    "collapsed": true
   },
   "source": [
    "## Step 1: Problem Analysis\n",
    "\n",
    "Inputs: item name or done\n",
    "\n",
    "Outputs: the shopping list\n",
    "\n",
    "Algorithm (Steps in Program): open the file, have a if statement that allows you to enter your shopping items or done. If you do not enter that the program with close and print your shopping list\n",
    "\n"
   ]
  },
  {
   "cell_type": "code",
   "execution_count": null,
   "metadata": {},
   "outputs": [],
   "source": [
    "filename = \"NYC2-shopping-list.txt\"\n",
    "with open(filename, 'w') as f:\n",
    "    while True:\n",
    "        item = input(\"Enter grocery list: \")\n",
    "        if item !='done':\n",
    "            f.write(item)\n",
    "            f.write('/n')\n",
    "        else:\n",
    "                f.close()\n",
    "                print(\"This is your grocery shopping list: \")\n",
    "with open(filename, 'r') as f:\n",
    "            grocery_list = f.read()\n",
    "            prnt(grocery_list)\n",
    "        "
   ]
  },
  {
   "cell_type": "markdown",
   "metadata": {
    "collapsed": true
   },
   "source": [
    "## Step 3: Refactoring\n",
    "\n",
    "Refactor the part of your program which reads the shopping list from the file into a separate user-defined function called `readShoppingList` \n",
    "re-write your program to use this function.\n",
    "\n",
    "## ReadShoppingList function\n",
    "\n",
    "Inputs:item or done\n",
    "\n",
    "Outputs: Shopping list\n",
    "\n",
    "Algorithm (Steps in Program): open the file, have a if statement that allows you to enter your shopping items or done. If you do not enter that the program with close and print your shopping list"
   ]
  },
  {
   "cell_type": "code",
   "execution_count": null,
   "metadata": {
    "collapsed": true
   },
   "outputs": [],
   "source": [
    "## Step 4: Write program again with refactored code.\n",
    "def readShoppingList(filename):\n",
    "    with open(filename,'r') as r:\n",
    "        grocery_list = r.read()\n",
    "        print(grocery_list)"
   ]
  },
  {
   "cell_type": "code",
   "execution_count": null,
   "metadata": {},
   "outputs": [],
   "source": [
    "with open(filename, 'w') as f:\n",
    "    while True:\n",
    "        item = input(\"Enter grocery list: \")\n",
    "        if item !='done':\n",
    "            f.write(item + '\\n')\n",
    "        else:\n",
    "                f.close()\n",
    "                print(\"This is your grocery shopping list: \")\n",
    "                break\n",
    "readShoppingList(filename)"
   ]
  },
  {
   "cell_type": "markdown",
   "metadata": {},
   "source": [
    "## Step 5: Questions\n",
    "\n",
    "1. Is the refactored code in step 4 easier to read? Why or why not?\n",
    "The code is easier to read because it is simplier to the eye. \n",
    "2. Explain how this program could be refarctored further (there's one thing that's obvious).\n",
    "This code could re refactored further by letting you enter multiple items at once, instead of just one at a time.\n",
    "3. Describe how this program can be modified to support multiple shopping lists? \n",
    "This program can be modified to support multiple shopping lists by reading several different files and naming them different things.\n"
   ]
  },
  {
   "cell_type": "code",
   "execution_count": null,
   "metadata": {
    "collapsed": true
   },
   "outputs": [],
   "source": []
  },
  {
   "cell_type": "markdown",
   "metadata": {},
   "source": [
    "## Reminder of Evaluation Criteria\n",
    "\n",
    "1. What the problem attempted (analysis, code, and answered questions) ?\n",
    "2. What the problem analysis thought out? (does the program match the plan?)\n",
    "3. Does the code execute without syntax error?\n",
    "4. Does the code solve the intended problem?\n",
    "5. Is the code well written? (easy to understand, modular, and self-documenting, handles errors)\n"
   ]
  },
  {
   "cell_type": "code",
   "execution_count": null,
   "metadata": {
    "collapsed": true
   },
   "outputs": [],
   "source": []
  }
 ],
 "metadata": {
  "anaconda-cloud": {},
  "kernelspec": {
   "display_name": "Python 3",
   "language": "python",
   "name": "python3"
  },
  "language_info": {
   "codemirror_mode": {
    "name": "ipython",
    "version": 3
   },
   "file_extension": ".py",
   "mimetype": "text/x-python",
   "name": "python",
   "nbconvert_exporter": "python",
   "pygments_lexer": "ipython3",
   "version": "3.6.1"
  }
 },
 "nbformat": 4,
 "nbformat_minor": 1
}
