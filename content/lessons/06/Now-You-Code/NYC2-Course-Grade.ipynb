{
 "cells": [
  {
   "cell_type": "markdown",
   "metadata": {},
   "source": [
    "# Now You Code 2: Course Grade\n",
    "\n",
    "In a previous homework you wrote a program to calculate the final grade letter grade in IST256 when given the total points out of 600.\n",
    "\n",
    "The code appears below. Feel free to execute this code a few times in order to get a feel for how it works."
   ]
  },
  {
   "cell_type": "code",
   "execution_count": null,
   "metadata": {
    "collapsed": true
   },
   "outputs": [],
   "source": [
    "print(\"IST256 Grade Calculator\")\n",
    "try:\n",
    "    points = int(input(\"Enter total points out of 600:\"))\n",
    "    if points >= 570:\n",
    "        grade = \"A\"\n",
    "    elif points >= 540:\n",
    "        grade = \"A-\"\n",
    "    elif points >= 510:\n",
    "        grade = \"B+\"\n",
    "    elif points >= 480:\n",
    "        grade = \"B\"\n",
    "    elif points >= 450:\n",
    "        grade = \"B-\"\n",
    "    elif points >= 420:\n",
    "        grade = \"C+\"\n",
    "    elif points >= 390:\n",
    "        grade = \"C\"\n",
    "    elif points >= 360:\n",
    "        grade = \"C-\"\n",
    "    elif points >= 300:\n",
    "        grade = \"D\"\n",
    "    else:\n",
    "        grade = \"F\"\n",
    "\n",
    "    print(\"Grade:\", grade) \n",
    "except:\n",
    "    print(\"Bad point input\")"
   ]
  },
  {
   "cell_type": "markdown",
   "metadata": {},
   "source": [
    "## Step 1: Refactor Into a function\n",
    "\n",
    "One reason to re-factor code into a function is to simplify our code. It's easier to understand `GetGrade()` as opposed to all of those `if ..elif` statements which make up `GetGrade` itself.\n",
    "\n",
    "Now re-factor the code into a user-defined Python function. The name of the function should be `GetGrade()`. The function should take a number of points as input and output the appropriate letter grade based on those points.\n",
    "\n"
   ]
  },
  {
   "cell_type": "code",
   "execution_count": 4,
   "metadata": {},
   "outputs": [],
   "source": [
    "## Step 2: Todo Write function defintion\n",
    "## Function: GetGrade\n",
    "## Arguments: points (eg. 540)\n",
    "## Returns: grade (A, B+ etc...)\n",
    "\n",
    "#TODO: Write function definition here\n",
    "\n",
    "def GetGrade(points):\n",
    "    if points >= 570:\n",
    "        grade = \"A\"\n",
    "    elif points >= 540:\n",
    "        grade = \"A-\"\n",
    "    elif points >= 510:\n",
    "        grade = \"B+\"\n",
    "    elif points >= 480:\n",
    "        grade = \"B\"\n",
    "    elif points >= 450:\n",
    "        grade = \"B-\"\n",
    "    elif points >= 420:\n",
    "        grade = \"C+\"\n",
    "    elif points >= 390:\n",
    "        grade = \"C\"\n",
    "    elif points >= 360:\n",
    "        grade = \"C-\"\n",
    "    elif points >= 300:\n",
    "        grade = \"D\"\n",
    "    else:\n",
    "        grade = \"F\"\n",
    "    return (grade)"
   ]
  },
  {
   "cell_type": "markdown",
   "metadata": {},
   "source": [
    "## Step 3: Test your function\n",
    "\n",
    "Call the function a few times to make sure it works. For example:\n",
    "\n",
    "```\n",
    "Input: 585 Expected Output: A\n",
    "Input: 424 Expected Output: C+\n",
    "Input: 0   Expected Output: F\n",
    "```"
   ]
  },
  {
   "cell_type": "code",
   "execution_count": 6,
   "metadata": {},
   "outputs": [
    {
     "name": "stdout",
     "output_type": "stream",
     "text": [
      "Input: 400 Expected Output: C\n"
     ]
    }
   ],
   "source": [
    "# Step 4: Call the function a few times, first one was provided for you, test a few more cases\n",
    "def GetGrade(points):\n",
    "    if points >= 570:\n",
    "        grade = \"A\"\n",
    "    elif points >= 540:\n",
    "        grade = \"A-\"\n",
    "    elif points >= 510:\n",
    "        grade = \"B+\"\n",
    "    elif points >= 480:\n",
    "        grade = \"B\"\n",
    "    elif points >= 450:\n",
    "        grade = \"B-\"\n",
    "    elif points >= 420:\n",
    "        grade = \"C+\"\n",
    "    elif points >= 390:\n",
    "        grade = \"C\"\n",
    "    elif points >= 360:\n",
    "        grade = \"C-\"\n",
    "    elif points >= 300:\n",
    "        grade = \"D\"\n",
    "    else:\n",
    "        grade = \"F\"\n",
    "    return (grade)\n",
    "print(\"Input:\", 400, \"Expected Output:\", GetGrade(400))"
   ]
  },
  {
   "cell_type": "markdown",
   "metadata": {},
   "source": [
    "# Calculating Course Grades \n",
    "\n",
    "Finally we can now write a program to loop until the user enters quit. Each time in the loop it should prompt for the total number of points in the course and then output the letter grade, as follows: \n",
    "\n",
    "Sample Run:\n",
    "```\n",
    "IST256 Grade Calculator\n",
    "Enter points or type 'quit': 540\n",
    "540 points is a grade of A-\n",
    "Enter points or type 'quit': 385\n",
    "385 points is a grade of C-\n",
    "Enter points or type 'quit': 690\n",
    "690 points is a grade of A\n",
    "Enter points or type 'quit': quit\n",
    "```\n",
    "\n",
    "Of course your program should use the `GetGrade` function we just created."
   ]
  },
  {
   "cell_type": "markdown",
   "metadata": {
    "collapsed": true
   },
   "source": [
    "## Step 4: Problem Analysis\n",
    "\n",
    "Inputs: Total number of points in course\n",
    "\n",
    "Outputs: Letter Grade\n",
    "\n",
    "Algorithm (Steps in Program):\n",
    "1 If the user inputs a number for points, it loops back to the GetGrade definition\n",
    "2 If the user inputs quit the program will just quit and it will output quit\n",
    "\n",
    "\n"
   ]
  },
  {
   "cell_type": "code",
   "execution_count": 15,
   "metadata": {},
   "outputs": [
    {
     "name": "stdout",
     "output_type": "stream",
     "text": [
      "Enter points or type quit: 400\n",
      "Your grade is C\n",
      "Enter points or type quit: quit\n"
     ]
    }
   ],
   "source": [
    "## Step 5: Write program here\n",
    "while True:\n",
    "    points = input(\"Enter points or type quit: \")\n",
    "    if points == \"quit\":\n",
    "        break\n",
    "    elif points != \"quit\":\n",
    "        points = int(points)\n",
    "        grade = GetGrade(points)\n",
    "        print(\"Your grade is %s\" % (grade))\n",
    "   "
   ]
  },
  {
   "cell_type": "markdown",
   "metadata": {},
   "source": [
    "## Step 6: Questions\n",
    "\n",
    "1. Provide 3 advantages for programming a user function in your code like `GetGrade` \n",
    "1 Easier to read\n",
    "2 Easier to use later in code\n",
    "3 Less complex\n",
    "2. If we want to guarantee our `GetGrade` function is 100% accurate, what is the minimum number of test cases must we provide in step 3?\n",
    "You should try it a few times to be sure\n",
    "3. How many times is the `GetGrade` function called in the sample run provided?\n",
    "It is called 3 times before the user entered quit\n"
   ]
  },
  {
   "cell_type": "markdown",
   "metadata": {},
   "source": [
    "## Reminder of Evaluation Criteria\n",
    "\n",
    "1. What the problem attempted (analysis, code, and answered questions) ?\n",
    "2. What the problem analysis thought out? (does the program match the plan?)\n",
    "3. Does the code execute without syntax error?\n",
    "4. Does the code solve the intended problem?\n",
    "5. Is the code well written? (easy to understand, modular, and self-documenting, handles errors)\n"
   ]
  },
  {
   "cell_type": "code",
   "execution_count": null,
   "metadata": {
    "collapsed": true
   },
   "outputs": [],
   "source": []
  }
 ],
 "metadata": {
  "anaconda-cloud": {},
  "kernelspec": {
   "display_name": "Python 3",
   "language": "python",
   "name": "python3"
  },
  "language_info": {
   "codemirror_mode": {
    "name": "ipython",
    "version": 3
   },
   "file_extension": ".py",
   "mimetype": "text/x-python",
   "name": "python",
   "nbconvert_exporter": "python",
   "pygments_lexer": "ipython3",
   "version": "3.6.1"
  }
 },
 "nbformat": 4,
 "nbformat_minor": 1
}
