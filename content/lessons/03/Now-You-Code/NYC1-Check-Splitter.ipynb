{
 "cells": [
  {
   "cell_type": "markdown",
   "metadata": {},
   "source": [
    "# Now You Code 1: Check Splitter\n",
    "\n",
    "Write a Python program which splits up a restaurant check. It first prompts you to input the total amount of your check, then the number of people dining. It should then output the amout each diner must contribute to the check.  For example:\n",
    "\n",
    "```\n",
    "*** Check Splitter ***\n",
    "How much is the amount of the check? 100.00\n",
    "How many people ? 6\n",
    "Each person owes: $16.67\n",
    "```\n",
    "\n",
    "NOTE: Use string formatters to display the output to two decimal places.\n"
   ]
  },
  {
   "cell_type": "markdown",
   "metadata": {
    "collapsed": true
   },
   "source": [
    "## Step 1: Problem Analysis\n",
    "\n",
    "Inputs: The amount of check and how many people are dining\n",
    "\n",
    "Outputs: How much each person owes\n",
    "\n",
    "Algorithm (Steps in Program): Input how much the check is, then you input how many people there are, then to figure out how much each person owes you divide amount of check by how many people dined\n",
    "\n"
   ]
  },
  {
   "cell_type": "code",
   "execution_count": 1,
   "metadata": {},
   "outputs": [
    {
     "name": "stdout",
     "output_type": "stream",
     "text": [
      "Python Check Divider\n",
      "How many people are dining? 4\n",
      "What is the total amount of the check? 56\n",
      "Each person should contribute $14.00 dollars.\n"
     ]
    }
   ],
   "source": [
    "# Step 2: Write code here\n",
    "print(\"Python Check Divider\")\n",
    "people = int(input(\"How many people are dining? \"))\n",
    "check_total = float(input(\"What is the total amount of the check? \"))\n",
    "contribution = check_total / people\n",
    "print(\"Each person should contribute $%.2f\" %contribution, \"dollars.\")"
   ]
  },
  {
   "cell_type": "markdown",
   "metadata": {},
   "source": [
    "## Step 3: Questions\n",
    "\n",
    "1. What happens when you enter `TWO` instead of `2` for the number of people dining? or $60 as the amount of the check, instead of 60?\n",
    "When you enter Two instead of 2 the code will not run because the program does not understand that by TWO you mean the number 2. It is looking for an integer. When you add the dollar sign it does not work because the program cannot understand what that symbol means because it cannot convert a string to a float. \n",
    "2. What type of error is this? Do you think it can be handled in code? This is an input error. \n",
    "3. Explain what happens when you enter `0.5` for the number of people dining? Does the program run? Does it make sense? \n",
    "You get a value error because it is looking for an integer, it wants a full value. "
   ]
  },
  {
   "cell_type": "markdown",
   "metadata": {},
   "source": [
    "## Reminder of Evaluation Criteria\n",
    "\n",
    "1. What the problem attempted (analysis, code, and answered questions) ?\n",
    "2. What the problem analysis thought out? (does the program match the plan?)\n",
    "3. Does the code execute without syntax error?\n",
    "4. Does the code solve the intended problem?\n",
    "5. Is the code well written? (easy to understand, modular, and self-documenting, handles errors)\n"
   ]
  },
  {
   "cell_type": "code",
   "execution_count": null,
   "metadata": {
    "collapsed": true
   },
   "outputs": [],
   "source": []
  }
 ],
 "metadata": {
  "anaconda-cloud": {},
  "kernelspec": {
   "display_name": "Python 3",
   "language": "python",
   "name": "python3"
  },
  "language_info": {
   "codemirror_mode": {
    "name": "ipython",
    "version": 3
   },
   "file_extension": ".py",
   "mimetype": "text/x-python",
   "name": "python",
   "nbconvert_exporter": "python",
   "pygments_lexer": "ipython3",
   "version": "3.6.1"
  }
 },
 "nbformat": 4,
 "nbformat_minor": 1
}
