{
 "cells": [
  {
   "cell_type": "markdown",
   "metadata": {},
   "source": [
    "# Now You Code 2: Multiply By\n",
    "\n",
    "Write a program to ask for a number to multiply by and then lists the multiplication table for that number from 1 to 10. This process will repeat until you enter quit as which point the program will exit.\n",
    "\n",
    "Wow. Seems complicated! We'll use technique called problem simplification to make this problem a little easier to solve.\n",
    "\n",
    "First we'll write a complete program to solve *part* of the problem, then we will take our new level of understanding to solve the *entire* problem.\n",
    "\n",
    "## Start with Sub-Problem 1\n",
    "\n",
    "Let's write a program to simply input a number and then uses a loop to print out the multiplication table up to 10  for that number. \n",
    "\n",
    "For example, when you input `5`:\n",
    "\n",
    "```\n",
    "Enter number to multiply by: 5\n",
    "1 x 5 = 5\n",
    "2 x 5 = 10\n",
    "3 x 5 = 15\n",
    "4 x 5 = 20\n",
    "5 x 5 = 25\n",
    "6 x 5 = 30\n",
    "7 x 5 = 35\n",
    "8 x 5 = 40\n",
    "9 x 5 = 45\n",
    "10 x 5 = 50\n",
    "```\n"
   ]
  },
  {
   "cell_type": "markdown",
   "metadata": {
    "collapsed": true
   },
   "source": [
    "## Step 1: Problem Analysis for Sub-Problem 1\n",
    "\n",
    "Inputs: a number\n",
    "\n",
    "Outputs: multiplication table up to 10 for that number\n",
    "\n",
    "Algorithm (Steps in Program):\n",
    "Input a number, make i = 1, for i in the range of 0-10, multiple i*x, adding one to i each time\n",
    "\n"
   ]
  },
  {
   "cell_type": "code",
   "execution_count": 3,
   "metadata": {},
   "outputs": [
    {
     "name": "stdout",
     "output_type": "stream",
     "text": [
      "Enter a number4\n",
      "4 * 1 = 4\n",
      "4 * 2 = 8\n",
      "4 * 3 = 12\n",
      "4 * 4 = 16\n",
      "4 * 5 = 20\n",
      "4 * 6 = 24\n",
      "4 * 7 = 28\n",
      "4 * 8 = 32\n",
      "4 * 9 = 36\n",
      "4 * 10 = 40\n"
     ]
    }
   ],
   "source": [
    "# Step 2: write code for sub-problem 1\n",
    "x = int(input(\"Enter a number\"))\n",
    "i = 1\n",
    "for i in range(0,10):\n",
    "    i = (i+1)\n",
    "    y = i * x\n",
    "    print(\"%d * %d = %d\" % (x,i,y))"
   ]
  },
  {
   "cell_type": "markdown",
   "metadata": {},
   "source": [
    "# Full Problem \n",
    "\n",
    "Now that we've got part of the problem figured out, let's solve the entire problem. The program should keep asking for numbers and then print out multiplcation tables until you enter `quit`. Here's an example:\n",
    "\n",
    "Example Run:\n",
    "\n",
    "```\n",
    "Enter number to multiply by or type 'quit': 10\n",
    "1 x 10 = 10\n",
    "2 x 10 = 20\n",
    "3 x 10 = 30\n",
    "4 x 10 = 40\n",
    "5 x 10 = 50\n",
    "6 x 10 = 60\n",
    "7 x 10 = 70\n",
    "8 x 10 = 80\n",
    "9 x 10 = 90\n",
    "10 x 10 = 100\n",
    "Enter number to multiply by or type 'quit': 5\n",
    "1 x 5 = 5\n",
    "2 x 5 = 10\n",
    "3 x 5 = 15\n",
    "4 x 5 = 20\n",
    "5 x 5 = 25\n",
    "6 x 5 = 30\n",
    "7 x 5 = 35\n",
    "8 x 5 = 40\n",
    "9 x 5 = 45\n",
    "10 x 5 = 50\n",
    "Enter number to multiply by or type 'quit': quit\n",
    "```\n",
    "\n",
    "**NOTE:** you need another loop complete this program. Take the code you wrote in the first part and repeat it in another loop until you type quit. "
   ]
  },
  {
   "cell_type": "markdown",
   "metadata": {
    "collapsed": true
   },
   "source": [
    "## Step 3: Problem Analysis for Full Problem\n",
    "\n",
    "Inputs: integer\n",
    "\n",
    "Outputs:multiplication able\n",
    "\n",
    "Algorithm (Steps in Program): Input a number, make i = 1, for i in the range of 0-10, multiple i*x, adding one to i each time, enter number to multiple or type quit"
   ]
  },
  {
   "cell_type": "code",
   "execution_count": 1,
   "metadata": {},
   "outputs": [
    {
     "ename": "SyntaxError",
     "evalue": "'break' outside loop (<ipython-input-1-711852044d21>, line 13)",
     "output_type": "error",
     "traceback": [
      "\u001b[1;36m  File \u001b[1;32m\"<ipython-input-1-711852044d21>\"\u001b[1;36m, line \u001b[1;32m13\u001b[0m\n\u001b[1;33m    break\u001b[0m\n\u001b[1;37m    ^\u001b[0m\n\u001b[1;31mSyntaxError\u001b[0m\u001b[1;31m:\u001b[0m 'break' outside loop\n"
     ]
    }
   ],
   "source": [
    "# Step 4: Write code for full problem\n",
    "while True:\n",
    "    x = int(input(\"Enter a number\"))\n",
    "    if x != \"quit\":\n",
    "        x = int(x)\n",
    "        i = 1\n",
    "    for i in range(0,10):\n",
    "        i = (i+1)\n",
    "        y = i * x\n",
    "    print(\"%d * %d = %d\" % (x,i,y))\n",
    "    \n",
    "else:\n",
    "    break\n",
    "\n",
    "    "
   ]
  },
  {
   "cell_type": "markdown",
   "metadata": {},
   "source": [
    "## Step 3: Questions\n",
    "\n",
    "1. What is the loop control variable for the first (outer) loop? i=1 is the first outer loop\n",
    "2. What is the loop control variable for the second (inner) loop? i=(i+1)\n",
    "3. Provide at least one way this program can be improved, or make more flexible by introducing more inputs? This program can be improved by introducing more loops by having a loop to go above the range of 0 to 10\n"
   ]
  },
  {
   "cell_type": "markdown",
   "metadata": {},
   "source": [
    "## Reminder of Evaluation Criteria\n",
    "\n",
    "1. What the problem attempted (analysis, code, and answered questions) ?\n",
    "2. What the problem analysis thought out? (does the program match the plan?)\n",
    "3. Does the code execute without syntax error?\n",
    "4. Does the code solve the intended problem?\n",
    "5. Is the code well written? (easy to understand, modular, and self-documenting, handles errors)\n"
   ]
  },
  {
   "cell_type": "code",
   "execution_count": null,
   "metadata": {
    "collapsed": true
   },
   "outputs": [],
   "source": []
  }
 ],
 "metadata": {
  "anaconda-cloud": {},
  "kernelspec": {
   "display_name": "Python 3",
   "language": "python",
   "name": "python3"
  },
  "language_info": {
   "codemirror_mode": {
    "name": "ipython",
    "version": 3
   },
   "file_extension": ".py",
   "mimetype": "text/x-python",
   "name": "python",
   "nbconvert_exporter": "python",
   "pygments_lexer": "ipython3",
   "version": "3.6.1"
  }
 },
 "nbformat": 4,
 "nbformat_minor": 1
}
